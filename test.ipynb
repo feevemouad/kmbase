{
 "cells": [
  {
   "cell_type": "code",
   "execution_count": 53,
   "metadata": {},
   "outputs": [],
   "source": [
    "import re\n",
    "def _is_hash(hash_string: str) -> bool:\n",
    "        \"\"\"\n",
    "        Determines if a string is a hash.\n",
    "\n",
    "        Returns\n",
    "        -------\n",
    "        bool\n",
    "            The validity of the hash string.\n",
    "        \"\"\"\n",
    "        bcrypt_regex = re.compile(r'^\\$2[aby]\\$\\d+\\$.{53}$')\n",
    "        return bool(bcrypt_regex.match(hash_string))\n"
   ]
  },
  {
   "cell_type": "code",
   "execution_count": 52,
   "metadata": {},
   "outputs": [],
   "source": [
    "import bcrypt\n",
    "\n",
    "def _hash(password: str) -> str:\n",
    "    \"\"\"\n",
    "    Hashes the plain text password.\n",
    "    \n",
    "    Parameters\n",
    "    ----------\n",
    "    password: str\n",
    "        The plain text password to be hashed.\n",
    "    Returns\n",
    "    -------\n",
    "    str\n",
    "        The hashed password.\n",
    "    \"\"\"\n",
    "    return bcrypt.hashpw(password.encode(), bcrypt.gensalt()).decode()"
   ]
  },
  {
   "cell_type": "code",
   "execution_count": 55,
   "metadata": {},
   "outputs": [
    {
     "data": {
      "text/plain": [
       "'$2b$12$csv.uOLccQ5JWqXBtFyH9./.u327ss3b5AzaOaHNTaGOMtJVCj7Ja'"
      ]
     },
     "execution_count": 55,
     "metadata": {},
     "output_type": "execute_result"
    }
   ],
   "source": [
    "_hash(\"mypassword\")"
   ]
  },
  {
   "cell_type": "code",
   "execution_count": 58,
   "metadata": {},
   "outputs": [],
   "source": [
    "import psycopg2\n",
    "\n",
    "# Establishing the connection\n",
    "conn = psycopg2.connect(\n",
    "    dbname='kbase', user='postgres', password='postgres', host='localhost', port='5432'\n",
    ")\n",
    "\n",
    "# Creating a cursor object\n",
    "cur = conn.cursor()\n",
    "\n",
    "# Executing the query\n",
    "cur.execute('SELECT * FROM users')\n",
    "\n",
    "# Fetching all rows from the result\n",
    "rows = cur.fetchall()\n",
    "\n",
    "for row in rows:\n",
    "    print(row)\n",
    "\n",
    "# Closing the connection\n",
    "cur.close()\n",
    "conn.close()\n"
   ]
  }
 ],
 "metadata": {
  "kernelspec": {
   "display_name": "nlp",
   "language": "python",
   "name": "python3"
  },
  "language_info": {
   "codemirror_mode": {
    "name": "ipython",
    "version": 3
   },
   "file_extension": ".py",
   "mimetype": "text/x-python",
   "name": "python",
   "nbconvert_exporter": "python",
   "pygments_lexer": "ipython3",
   "version": "3.9.19"
  }
 },
 "nbformat": 4,
 "nbformat_minor": 2
}
